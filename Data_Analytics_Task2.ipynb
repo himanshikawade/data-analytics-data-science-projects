{
  "nbformat": 4,
  "nbformat_minor": 0,
  "metadata": {
    "colab": {
      "provenance": []
    },
    "kernelspec": {
      "name": "python3",
      "display_name": "Python 3"
    },
    "language_info": {
      "name": "python"
    }
  },
  "cells": [
    {
      "cell_type": "code",
      "execution_count": null,
      "metadata": {
        "id": "P8hidsJefBqg"
      },
      "outputs": [],
      "source": [
        "import pandas as pd"
      ]
    },
    {
      "cell_type": "code",
      "source": [
        "df = pd.read_csv('/content/train (1).csv')\n",
        "df"
      ],
      "metadata": {
        "id": "g0GTaD43fS_t"
      },
      "execution_count": null,
      "outputs": []
    },
    {
      "cell_type": "code",
      "source": [
        "d1=df.dropna(inplace=True)\n",
        "df"
      ],
      "metadata": {
        "id": "72gF0R-0gpjv"
      },
      "execution_count": null,
      "outputs": []
    },
    {
      "cell_type": "code",
      "source": [
        "mean_values = df['Age'].mean()\n",
        "mean_values"
      ],
      "metadata": {
        "id": "0KmJOvi6fgnh"
      },
      "execution_count": null,
      "outputs": []
    },
    {
      "cell_type": "code",
      "source": [
        "median_values = df['Age'].median()\n",
        "median_values"
      ],
      "metadata": {
        "id": "ATDii8YIfkgu"
      },
      "execution_count": null,
      "outputs": []
    },
    {
      "cell_type": "code",
      "source": [
        "mode_values = df['Age'].mode().iloc[0]\n",
        "mode_values"
      ],
      "metadata": {
        "id": "HYuKH2OxfmXb"
      },
      "execution_count": null,
      "outputs": []
    },
    {
      "cell_type": "code",
      "source": [
        "std_deviation_values = df['Age'].std()"
      ],
      "metadata": {
        "id": "OzaAIo-dfoQR"
      },
      "execution_count": null,
      "outputs": []
    },
    {
      "cell_type": "code",
      "source": [
        "# Print the results\n",
        "print(\"Mean:\")\n",
        "print(mean_values)\n",
        "print(\"\\nMedian:\")\n",
        "print(median_values)\n",
        "print(\"\\nMode:\")\n",
        "print(mode_values)\n",
        "print(\"\\nStandard Deviation:\")\n",
        "print(std_deviation_values)"
      ],
      "metadata": {
        "id": "D3KczaVAfuFk"
      },
      "execution_count": null,
      "outputs": []
    },
    {
      "cell_type": "code",
      "source": [
        "import matplotlib.pyplot as plt\n",
        "\n",
        "# Assuming you have a dataset loaded into a Pandas DataFrame and want to visualize the 'age' column\n",
        "plt.hist(df['Age'], bins=20, color='skyblue', edgecolor='black')\n",
        "plt.title('Histogram of Age')\n",
        "plt.xlabel('Age')\n",
        "plt.ylabel('Frequency')\n",
        "plt.show()\n"
      ],
      "metadata": {
        "id": "U13sMstegSyE"
      },
      "execution_count": null,
      "outputs": []
    },
    {
      "cell_type": "code",
      "source": [],
      "metadata": {
        "id": "9QrIpdcrg_Sk"
      },
      "execution_count": null,
      "outputs": []
    }
  ]
}